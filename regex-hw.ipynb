{
 "cells": [
  {
   "cell_type": "markdown",
   "id": "fbb8a87b",
   "metadata": {},
   "source": [
    "Answer to question 1: \"^[J-J]+\\w+\\s[S-S]+\\w+$\"gm\n",
    "\n",
    "Answer to question 2: \n",
    "Invoice Form: ^[I]\\w+\\s\\d{5,}\\s\\w+\n",
    "Date: ^[D]\\w+\\s\\w+\\s\\w+[:]\\s\\d+[/]\\d+[/]\\d+\n",
    "Invoice Number: ^[I,f]\\w+\\s\\d{5,}\n",
    "\n",
    "Answer to question 3:\n",
    "\"^[C,D,R,E]\\w+[,]\\s\\d+\"gm"
   ]
  },
  {
   "cell_type": "code",
   "execution_count": null,
   "id": "bf57b1db",
   "metadata": {},
   "outputs": [],
   "source": []
  }
 ],
 "metadata": {
  "kernelspec": {
   "display_name": "Python 3 (ipykernel)",
   "language": "python",
   "name": "python3"
  },
  "language_info": {
   "codemirror_mode": {
    "name": "ipython",
    "version": 3
   },
   "file_extension": ".py",
   "mimetype": "text/x-python",
   "name": "python",
   "nbconvert_exporter": "python",
   "pygments_lexer": "ipython3",
   "version": "3.9.7"
  }
 },
 "nbformat": 4,
 "nbformat_minor": 5
}
